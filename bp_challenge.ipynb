{
 "cells": [
  {
   "cell_type": "code",
   "execution_count": 1,
   "metadata": {},
   "outputs": [],
   "source": [
    "import pandas as pd\n",
    "import numpy as np\n",
    "# from path import Path\n",
    "from fastai.vision import *"
   ]
  },
  {
   "cell_type": "code",
   "execution_count": 17,
   "metadata": {},
   "outputs": [],
   "source": [
    "# folder = 'jisoo'\n",
    "# file = 'jisoo.txt'"
   ]
  },
  {
   "cell_type": "code",
   "execution_count": 24,
   "metadata": {},
   "outputs": [],
   "source": [
    "# folder = 'lisa'\n",
    "# file = 'lisa.csv'"
   ]
  },
  {
   "cell_type": "code",
   "execution_count": 27,
   "metadata": {},
   "outputs": [],
   "source": [
    "# folder = 'jennie'\n",
    "# file = 'jennie.csv'"
   ]
  },
  {
   "cell_type": "code",
   "execution_count": 30,
   "metadata": {},
   "outputs": [],
   "source": [
    "# folder = 'rose'\n",
    "# file = 'rose.csv'"
   ]
  },
  {
   "cell_type": "code",
   "execution_count": 31,
   "metadata": {},
   "outputs": [],
   "source": [
    "# path = Path('data/blackpink')\n",
    "# dest = path/folder\n",
    "# dest.mkdir(parents=True, exist_ok=True)"
   ]
  },
  {
   "cell_type": "code",
   "execution_count": 32,
   "metadata": {},
   "outputs": [
    {
     "data": {
      "text/html": [],
      "text/plain": [
       "<IPython.core.display.HTML object>"
      ]
     },
     "metadata": {},
     "output_type": "display_data"
    }
   ],
   "source": [
    "# download_images(path/file,dest,max_pics=150)"
   ]
  },
  {
   "cell_type": "code",
   "execution_count": 1,
   "metadata": {},
   "outputs": [],
   "source": [
    "import os"
   ]
  },
  {
   "cell_type": "code",
   "execution_count": 2,
   "metadata": {},
   "outputs": [
    {
     "name": "stdout",
     "output_type": "stream",
     "text": [
      "C:\\Users\\n_int\\Documents\\ML project\\Computer vision\n",
      "['.git', '.ipynb_checkpoints', 'apo.jpg', 'black.csv', 'black.txt', 'bp_challenge.ipynb', 'cat-and-dog', 'Cat-and-Dog.ipynb', 'chest_X_ray.ipynb', 'cv2_trial.ipynb', 'data', 'Face_detection.ipynb', 'grizzly.csv', 'haarcascade_eye.xml', 'haarcascade_frontalface_default.xml', 'nat.jpg', 'nat2.jpg', 'Pet_classification.ipynb', 'teddys.csv', 'teddys.txt', 'Untitled.ipynb']\n"
     ]
    }
   ],
   "source": [
    "#Try to change img name\n",
    "print(os.getcwd())\n",
    "print(os.listdir('.'))"
   ]
  },
  {
   "cell_type": "code",
   "execution_count": 4,
   "metadata": {},
   "outputs": [],
   "source": [
    "main_path = os.getcwd()\n",
    "bp_path = os.path.join(main_path,'data','blackpink')"
   ]
  },
  {
   "cell_type": "code",
   "execution_count": 62,
   "metadata": {},
   "outputs": [],
   "source": [
    "# for dirname in os.listdir(bp_path):\n",
    "#     if os.path.isdir(dirname):\n",
    "#         for i, filename in enumerate(os.listdir(dirname)):\n",
    "#             os.rename()"
   ]
  },
  {
   "cell_type": "code",
   "execution_count": 5,
   "metadata": {},
   "outputs": [
    {
     "name": "stderr",
     "output_type": "stream",
     "text": [
      "WARNING: Logging before flag parsing goes to stderr.\n",
      "W0414 17:45:12.646469 16208 deprecation.py:506] From C:\\Users\\n_int\\Anaconda3\\lib\\site-packages\\tensorflow\\python\\ops\\init_ops.py:1251: calling VarianceScaling.__init__ (from tensorflow.python.ops.init_ops) with dtype is deprecated and will be removed in a future version.\n",
      "Instructions for updating:\n",
      "Call initializer instance with the dtype argument instead of passing it to the constructor\n"
     ]
    }
   ],
   "source": [
    "from tensorflow.keras.preprocessing.image import ImageDataGenerator\n",
    "from tensorflow.keras.layers import Dense,Flatten,Conv2D,MaxPooling2D\n",
    "from tensorflow.keras.models import Sequential\n",
    "model = Sequential()\n",
    "model.add(Conv2D(32,(3,3),activation = 'relu',input_shape = (150,150,3)))\n",
    "model.add(MaxPooling2D(2,2))\n",
    "model.add(Conv2D(32,(3,3),activation = 'relu'))\n",
    "model.add(MaxPooling2D(2,2))\n",
    "model.add(Flatten())\n",
    "model.add(Dense(64,activation = 'relu'))\n",
    "model.add(Dense(64,activation = 'relu'))\n",
    "model.add(Dense(1,activation = 'sigmoid'))"
   ]
  },
  {
   "cell_type": "code",
   "execution_count": 6,
   "metadata": {
    "scrolled": true
   },
   "outputs": [
    {
     "name": "stdout",
     "output_type": "stream",
     "text": [
      "Model: \"sequential\"\n",
      "_________________________________________________________________\n",
      "Layer (type)                 Output Shape              Param #   \n",
      "=================================================================\n",
      "conv2d (Conv2D)              (None, 148, 148, 32)      896       \n",
      "_________________________________________________________________\n",
      "max_pooling2d (MaxPooling2D) (None, 74, 74, 32)        0         \n",
      "_________________________________________________________________\n",
      "conv2d_1 (Conv2D)            (None, 72, 72, 32)        9248      \n",
      "_________________________________________________________________\n",
      "max_pooling2d_1 (MaxPooling2 (None, 36, 36, 32)        0         \n",
      "_________________________________________________________________\n",
      "flatten (Flatten)            (None, 41472)             0         \n",
      "_________________________________________________________________\n",
      "dense (Dense)                (None, 64)                2654272   \n",
      "_________________________________________________________________\n",
      "dense_1 (Dense)              (None, 64)                4160      \n",
      "_________________________________________________________________\n",
      "dense_2 (Dense)              (None, 1)                 65        \n",
      "=================================================================\n",
      "Total params: 2,668,641\n",
      "Trainable params: 2,668,641\n",
      "Non-trainable params: 0\n",
      "_________________________________________________________________\n"
     ]
    }
   ],
   "source": [
    "model.summary()"
   ]
  },
  {
   "cell_type": "code",
   "execution_count": 7,
   "metadata": {},
   "outputs": [
    {
     "name": "stderr",
     "output_type": "stream",
     "text": [
      "W0414 17:45:18.702490 16208 deprecation.py:323] From C:\\Users\\n_int\\Anaconda3\\lib\\site-packages\\tensorflow\\python\\ops\\nn_impl.py:180: add_dispatch_support.<locals>.wrapper (from tensorflow.python.ops.array_ops) is deprecated and will be removed in a future version.\n",
      "Instructions for updating:\n",
      "Use tf.where in 2.0, which has the same broadcast rule as np.where\n"
     ]
    }
   ],
   "source": [
    "from tensorflow.keras.optimizers import RMSprop\n",
    "model.compile(loss='binary_crossentropy',\n",
    "             optimizer = RMSprop(lr = 0.001),\n",
    "             metrics = ['acc'])"
   ]
  },
  {
   "cell_type": "code",
   "execution_count": 8,
   "metadata": {},
   "outputs": [],
   "source": [
    "train = os.path.join(bp_path,'train')\n",
    "valid = os.path.join(bp_path,'valid')"
   ]
  },
  {
   "cell_type": "code",
   "execution_count": 15,
   "metadata": {},
   "outputs": [
    {
     "name": "stdout",
     "output_type": "stream",
     "text": [
      "Found 162 images belonging to 2 classes.\n"
     ]
    }
   ],
   "source": [
    "train_datagen = ImageDataGenerator()\n",
    "valid_datagen = ImageDataGenerator()\n",
    "\n",
    "train_gen = train_datagen.flow_from_directory(train,target_size = (150,150),class_mode = 'binary')\n",
    "\n",
    "# valid_gen = valid_datagen.flow_from_directory(valid,target_size = (150,150),\n",
    "#       batch_size = 10,\n",
    "#       class_mode = 'binary')"
   ]
  },
  {
   "cell_type": "code",
   "execution_count": 16,
   "metadata": {},
   "outputs": [
    {
     "name": "stdout",
     "output_type": "stream",
     "text": [
      "Epoch 1/15\n",
      "6/6 [==============================] - ETA: 0s - loss: 0.0000e+00 - acc: 1.000 - ETA: 0s - loss: 0.0000e+00 - acc: 1.000 - ETA: 0s - loss: 0.0000e+00 - acc: 1.000 - 0s 46ms/step - loss: 0.0000e+00 - acc: 1.0000\n",
      "Epoch 2/15\n",
      "6/6 [==============================] - ETA: 0s - loss: 0.0000e+00 - acc: 1.000 - ETA: 0s - loss: 0.0000e+00 - acc: 1.000 - ETA: 0s - loss: 0.0000e+00 - acc: 1.000 - 0s 45ms/step - loss: 0.0000e+00 - acc: 1.0000\n",
      "Epoch 3/15\n",
      "6/6 [==============================] - ETA: 0s - loss: 0.0000e+00 - acc: 1.000 - ETA: 0s - loss: 0.0000e+00 - acc: 1.000 - ETA: 0s - loss: 0.0000e+00 - acc: 1.000 - 0s 54ms/step - loss: 0.0000e+00 - acc: 1.0000\n",
      "Epoch 4/15\n",
      "6/6 [==============================] - ETA: 0s - loss: 0.0000e+00 - acc: 1.000 - ETA: 0s - loss: 0.0000e+00 - acc: 1.000 - ETA: 0s - loss: 0.0000e+00 - acc: 1.000 - ETA: 0s - loss: 0.0000e+00 - acc: 1.000 - 0s 47ms/step - loss: 0.0000e+00 - acc: 1.0000\n",
      "Epoch 5/15\n",
      "6/6 [==============================] - ETA: 0s - loss: 0.0000e+00 - acc: 1.000 - ETA: 0s - loss: 0.0000e+00 - acc: 1.000 - ETA: 0s - loss: 0.0000e+00 - acc: 1.000 - 0s 47ms/step - loss: 0.0000e+00 - acc: 1.0000\n",
      "Epoch 6/15\n",
      "6/6 [==============================] - ETA: 0s - loss: 0.0000e+00 - acc: 1.000 - ETA: 0s - loss: 0.0000e+00 - acc: 1.000 - ETA: 0s - loss: 0.0000e+00 - acc: 1.000 - ETA: 0s - loss: 0.0000e+00 - acc: 1.000 - ETA: 0s - loss: 0.0000e+00 - acc: 1.000 - 0s 56ms/step - loss: 0.0000e+00 - acc: 1.0000\n",
      "Epoch 7/15\n",
      "6/6 [==============================] - ETA: 0s - loss: 0.0000e+00 - acc: 1.000 - ETA: 0s - loss: 0.0000e+00 - acc: 1.000 - ETA: 0s - loss: 0.0000e+00 - acc: 1.000 - ETA: 0s - loss: 0.0000e+00 - acc: 1.000 - 0s 46ms/step - loss: 0.0000e+00 - acc: 1.0000\n",
      "Epoch 8/15\n",
      "6/6 [==============================] - ETA: 0s - loss: 0.0000e+00 - acc: 1.000 - ETA: 0s - loss: 0.0000e+00 - acc: 1.000 - ETA: 0s - loss: 0.0000e+00 - acc: 1.000 - ETA: 0s - loss: 0.0000e+00 - acc: 1.000 - 0s 49ms/step - loss: 0.0000e+00 - acc: 1.0000\n",
      "Epoch 9/15\n",
      "6/6 [==============================] - ETA: 0s - loss: 0.0000e+00 - acc: 1.000 - ETA: 0s - loss: 0.0000e+00 - acc: 1.000 - ETA: 0s - loss: 0.0000e+00 - acc: 1.000 - ETA: 0s - loss: 0.0000e+00 - acc: 1.000 - ETA: 0s - loss: 0.0000e+00 - acc: 1.000 - 0s 51ms/step - loss: 0.0000e+00 - acc: 1.0000\n",
      "Epoch 10/15\n",
      "6/6 [==============================] - ETA: 0s - loss: 0.0000e+00 - acc: 1.000 - ETA: 0s - loss: 0.0000e+00 - acc: 1.000 - ETA: 0s - loss: 0.0000e+00 - acc: 1.000 - 0s 44ms/step - loss: 0.0000e+00 - acc: 1.0000\n",
      "Epoch 11/15\n",
      "6/6 [==============================] - ETA: 0s - loss: 0.0000e+00 - acc: 1.000 - ETA: 0s - loss: 0.0000e+00 - acc: 1.000 - ETA: 0s - loss: 0.0000e+00 - acc: 1.000 - ETA: 0s - loss: 0.0000e+00 - acc: 1.000 - 0s 50ms/step - loss: 0.0000e+00 - acc: 1.0000\n",
      "Epoch 12/15\n",
      "6/6 [==============================] - ETA: 0s - loss: 0.0000e+00 - acc: 1.000 - ETA: 0s - loss: 0.0000e+00 - acc: 1.000 - ETA: 0s - loss: 0.0000e+00 - acc: 1.000 - 0s 54ms/step - loss: 0.0000e+00 - acc: 1.0000\n",
      "Epoch 13/15\n",
      "6/6 [==============================] - ETA: 0s - loss: 0.0000e+00 - acc: 1.000 - ETA: 0s - loss: 0.0000e+00 - acc: 1.000 - ETA: 0s - loss: 0.0000e+00 - acc: 1.000 - ETA: 0s - loss: 0.0000e+00 - acc: 1.000 - 0s 46ms/step - loss: 0.0000e+00 - acc: 1.0000\n",
      "Epoch 14/15\n",
      "6/6 [==============================] - ETA: 0s - loss: 0.0000e+00 - acc: 1.000 - ETA: 0s - loss: 0.0000e+00 - acc: 1.000 - ETA: 0s - loss: 0.0000e+00 - acc: 1.000 - ETA: 0s - loss: 0.0000e+00 - acc: 1.000 - 0s 48ms/step - loss: 0.0000e+00 - acc: 1.0000\n",
      "Epoch 15/15\n",
      "6/6 [==============================] - ETA: 0s - loss: 0.0000e+00 - acc: 1.000 - ETA: 0s - loss: 0.0000e+00 - acc: 1.000 - ETA: 0s - loss: 0.0000e+00 - acc: 1.000 - ETA: 0s - loss: 0.0000e+00 - acc: 1.000 - 0s 53ms/step - loss: 0.0000e+00 - acc: 1.0000\n"
     ]
    }
   ],
   "source": [
    "history = model.fit_generator(train_gen,epochs=15,verbose=1)"
   ]
  },
  {
   "cell_type": "code",
   "execution_count": null,
   "metadata": {},
   "outputs": [],
   "source": [
    "#model\n",
    "model = Sequential()\n",
    "model.add(Conv2D(64,(3,3),activation = 'relu',input_shape=(300,300,3),padding = 'same'))\n",
    "model.add(Conv2D(64,(3,3),activation = 'relu',padding = 'same'))\n",
    "model.add(MaxPooling2D(pool_size = (2,2),strides = (2,2)))\n",
    "model.add(Conv2D(128,(3,3),activation = 'relu',padding = 'same'))\n",
    "model.add(Conv2D(128,(3,3),activation = 'relu',padding = 'same'))\n",
    "model.add(MaxPooling2D(pool_size = (2,2),strides = (2,2)))\n",
    "model.add(Conv2D(256,(3,3),activation = 'relu',padding = 'same'))\n",
    "model.add(Conv2D(256,(3,3),activation = 'relu',padding = 'same'))\n",
    "model.add(Conv2D(256,(3,3),activation = 'relu',padding = 'same'))\n",
    "model.add(MaxPooling2D(pool_size = (2,2),strides = (2,2)))\n",
    "model.add(Conv2D(512,(3,3),activation = 'relu',padding = 'same'))\n",
    "model.add(Conv2D(512,(3,3),activation = 'relu',padding = 'same'))\n",
    "model.add(Conv2D(512,(3,3),activation = 'relu',padding = 'same'))\n",
    "model.add(MaxPooling2D(pool_size = (2,2),strides = (2,2)))\n",
    "model.add(Conv2D(512,(3,3),activation = 'relu',padding = 'same'))\n",
    "model.add(Conv2D(512,(3,3),activation = 'relu',padding = 'same'))\n",
    "model.add(Conv2D(512,(3,3),activation = 'relu',padding = 'same'))\n",
    "model.add(Flatten())\n",
    "model.add(Dense(4096,activation = 'relu'))\n",
    "model.add(Dense(4096,activation = 'relu'))\n",
    "model.add(Dense(1,activation = 'sigmoid'))"
   ]
  }
 ],
 "metadata": {
  "kernelspec": {
   "display_name": "Python 3",
   "language": "python",
   "name": "python3"
  },
  "language_info": {
   "codemirror_mode": {
    "name": "ipython",
    "version": 3
   },
   "file_extension": ".py",
   "mimetype": "text/x-python",
   "name": "python",
   "nbconvert_exporter": "python",
   "pygments_lexer": "ipython3",
   "version": "3.7.3"
  }
 },
 "nbformat": 4,
 "nbformat_minor": 2
}
