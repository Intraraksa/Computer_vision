{
 "cells": [
  {
   "cell_type": "code",
   "execution_count": 1,
   "metadata": {},
   "outputs": [],
   "source": [
    "import pandas as pd\n",
    "import numpy as np\n",
    "import matplotlib.pyplot as plt\n",
    "import os"
   ]
  },
  {
   "cell_type": "code",
   "execution_count": 3,
   "metadata": {},
   "outputs": [],
   "source": [
    "train_nor = os.path.join('C:/Users/natdanai.intraraksa/Downloads/chest-xray-pneumonia/chest_xray/train/NORMAL')\n",
    "train_abnor = os.path.join('C:/Users/natdanai.intraraksa/Downloads/chest-xray-pneumonia/chest_xray/train/PNEUMONIA')\n",
    "val_nor = os.path.join('C:/Users/natdanai.intraraksa/Downloads/chest-xray-pneumonia/chest_xray/val/NORMAL')\n",
    "val_abnor = os.path.join('C:/Users/natdanai.intraraksa/Downloads/chest-xray-pneumonia/chest_xray/val/PNEUMONIA')\n",
    "test_nor = os.path.join('C:/Users/natdanai.intraraksa/Downloads/chest-xray-pneumonia/chest_xray/test/NORMAL')\n",
    "test_abnor = os.path.join('C:/Users/natdanai.intraraksa/Downloads/chest-xray-pneumonia/chest_xray/test/PNEUMONIA')"
   ]
  },
  {
   "cell_type": "code",
   "execution_count": 5,
   "metadata": {},
   "outputs": [
    {
     "name": "stdout",
     "output_type": "stream",
     "text": [
      "length of normal condition in train dataset is 1341\n",
      "length of abnormal condition in train dataset is 3875\n"
     ]
    }
   ],
   "source": [
    "print('length of normal condition in train dataset is {}'.format(len(os.listdir(train_nor))))\n",
    "print('length of abnormal condition in train dataset is {}'.format(len(os.listdir(train_abnor))))"
   ]
  },
  {
   "cell_type": "code",
   "execution_count": 6,
   "metadata": {},
   "outputs": [
    {
     "name": "stdout",
     "output_type": "stream",
     "text": [
      "length of normal condition in test dataset is 234\n",
      "length of abnormal condition in test dataset is 390\n"
     ]
    }
   ],
   "source": [
    "print('length of normal condition in test dataset is {}'.format(len(os.listdir(test_nor))))\n",
    "print('length of abnormal condition in test dataset is {}'.format(len(os.listdir(test_abnor))))"
   ]
  },
  {
   "cell_type": "code",
   "execution_count": 7,
   "metadata": {},
   "outputs": [],
   "source": [
    "import seaborn as sns"
   ]
  },
  {
   "cell_type": "code",
   "execution_count": 33,
   "metadata": {},
   "outputs": [
    {
     "data": {
      "text/plain": [
       "<matplotlib.axes._subplots.AxesSubplot at 0x23ab0a69e10>"
      ]
     },
     "execution_count": 33,
     "metadata": {},
     "output_type": "execute_result"
    },
    {
     "data": {
      "image/png": "[encoded data removed]",
      "text/plain": [
       "<Figure size 432x288 with 2 Axes>"
      ]
     },
     "metadata": {
      "needs_background": "light"
     },
     "output_type": "display_data"
    }
   ],
   "source": [
    "f,[ax1,ax2] = plt.subplots(1,2)\n",
    "sns.barplot(y = (len(os.listdir(train_nor)),len(os.listdir(train_abnor))), x = ['Normal condition','Abnormal condition'],ax = ax1)\n",
    "sns.barplot(y = (len(os.listdir(test_nor)),len(os.listdir(test_abnor))), x = ['Normal condition','Abnormal condition'],ax = ax2)"
   ]
  },
  {
   "cell_type": "code",
   "execution_count": 5,
   "metadata": {},
   "outputs": [],
   "source": [
    "#import nessecerry\n",
    "from tensorflow.keras.models import Sequential\n",
    "from tensorflow.keras.layers import Dense,Flatten,Conv2D,MaxPooling2D\n",
    "from tensorflow.keras.optimizers import Adam\n",
    "from tensorflow.keras.preprocessing.image import ImageDataGenerator\n",
    "from tensorflow.keras.losses import categorical_crossentropy"
   ]
  },
  {
   "cell_type": "code",
   "execution_count": 3,
   "metadata": {},
   "outputs": [
    {
     "name": "stderr",
     "output_type": "stream",
     "text": [
      "WARNING: Logging before flag parsing goes to stderr.\n",
      "W0313 14:57:43.177092 15680 deprecation.py:506] From C:\\Users\\n_int\\Anaconda3\\lib\\site-packages\\tensorflow\\python\\ops\\init_ops.py:1251: calling VarianceScaling.__init__ (from tensorflow.python.ops.init_ops) with dtype is deprecated and will be removed in a future version.\n",
      "Instructions for updating:\n",
      "Call initializer instance with the dtype argument instead of passing it to the constructor\n"
     ]
    }
   ],
   "source": [
    "#model\n",
    "model = Sequential()\n",
    "model.add(Conv2D(64,(3,3),activation = 'relu',input_shape=(300,300,3),padding = 'same'))\n",
    "model.add(Conv2D(64,(3,3),activation = 'relu',padding = 'same'))\n",
    "model.add(MaxPooling2D(pool_size = (2,2),strides = (2,2)))\n",
    "model.add(Conv2D(128,(3,3),activation = 'relu',padding = 'same'))\n",
    "model.add(Conv2D(128,(3,3),activation = 'relu',padding = 'same'))\n",
    "model.add(MaxPooling2D(pool_size = (2,2),strides = (2,2)))\n",
    "model.add(Conv2D(256,(3,3),activation = 'relu',padding = 'same'))\n",
    "model.add(Conv2D(256,(3,3),activation = 'relu',padding = 'same'))\n",
    "model.add(Conv2D(256,(3,3),activation = 'relu',padding = 'same'))\n",
    "model.add(MaxPooling2D(pool_size = (2,2),strides = (2,2)))\n",
    "model.add(Conv2D(512,(3,3),activation = 'relu',padding = 'same'))\n",
    "model.add(Conv2D(512,(3,3),activation = 'relu',padding = 'same'))\n",
    "model.add(Conv2D(512,(3,3),activation = 'relu',padding = 'same'))\n",
    "model.add(MaxPooling2D(pool_size = (2,2),strides = (2,2)))\n",
    "model.add(Conv2D(512,(3,3),activation = 'relu',padding = 'same'))\n",
    "model.add(Conv2D(512,(3,3),activation = 'relu',padding = 'same'))\n",
    "model.add(Conv2D(512,(3,3),activation = 'relu',padding = 'same'))\n",
    "model.add(Flatten())\n",
    "model.add(Dense(4096,activation = 'relu'))\n",
    "model.add(Dense(4096,activation = 'relu'))\n",
    "model.add(Dense(2,activation = 'softmax'))"
   ]
  },
  {
   "cell_type": "code",
   "execution_count": 7,
   "metadata": {},
   "outputs": [],
   "source": [
    "model.compile(optimizer=Adam(),loss=categorical_crossentropy,metrics=['accuracy'])"
   ]
  },
  {
   "cell_type": "code",
   "execution_count": 8,
   "metadata": {},
   "outputs": [
    {
     "name": "stdout",
     "output_type": "stream",
     "text": [
      "Model: \"sequential\"\n",
      "_________________________________________________________________\n",
      "Layer (type)                 Output Shape              Param #   \n",
      "=================================================================\n",
      "conv2d (Conv2D)              (None, 300, 300, 64)      1792      \n",
      "_________________________________________________________________\n",
      "conv2d_1 (Conv2D)            (None, 300, 300, 64)      36928     \n",
      "_________________________________________________________________\n",
      "max_pooling2d (MaxPooling2D) (None, 150, 150, 64)      0         \n",
      "_________________________________________________________________\n",
      "conv2d_2 (Conv2D)            (None, 150, 150, 128)     73856     \n",
      "_________________________________________________________________\n",
      "conv2d_3 (Conv2D)            (None, 150, 150, 128)     147584    \n",
      "_________________________________________________________________\n",
      "max_pooling2d_1 (MaxPooling2 (None, 75, 75, 128)       0         \n",
      "_________________________________________________________________\n",
      "conv2d_4 (Conv2D)            (None, 75, 75, 256)       295168    \n",
      "_________________________________________________________________\n",
      "conv2d_5 (Conv2D)            (None, 75, 75, 256)       590080    \n",
      "_________________________________________________________________\n",
      "conv2d_6 (Conv2D)            (None, 75, 75, 256)       590080    \n",
      "_________________________________________________________________\n",
      "max_pooling2d_2 (MaxPooling2 (None, 37, 37, 256)       0         \n",
      "_________________________________________________________________\n",
      "conv2d_7 (Conv2D)            (None, 37, 37, 512)       1180160   \n",
      "_________________________________________________________________\n",
      "conv2d_8 (Conv2D)            (None, 37, 37, 512)       2359808   \n",
      "_________________________________________________________________\n",
      "conv2d_9 (Conv2D)            (None, 37, 37, 512)       2359808   \n",
      "_________________________________________________________________\n",
      "max_pooling2d_3 (MaxPooling2 (None, 18, 18, 512)       0         \n",
      "_________________________________________________________________\n",
      "conv2d_10 (Conv2D)           (None, 18, 18, 512)       2359808   \n",
      "_________________________________________________________________\n",
      "conv2d_11 (Conv2D)           (None, 18, 18, 512)       2359808   \n",
      "_________________________________________________________________\n",
      "conv2d_12 (Conv2D)           (None, 18, 18, 512)       2359808   \n",
      "_________________________________________________________________\n",
      "flatten (Flatten)            (None, 165888)            0         \n",
      "_________________________________________________________________\n",
      "dense (Dense)                (None, 4096)              679481344 \n",
      "_________________________________________________________________\n",
      "dense_1 (Dense)              (None, 4096)              16781312  \n",
      "_________________________________________________________________\n",
      "dense_2 (Dense)              (None, 2)                 8194      \n",
      "=================================================================\n",
      "Total params: 710,985,538\n",
      "Trainable params: 710,985,538\n",
      "Non-trainable params: 0\n",
      "_________________________________________________________________\n"
     ]
    }
   ],
   "source": [
    "model.summary()"
   ]
  },
  {
   "cell_type": "code",
   "execution_count": null,
   "metadata": {},
   "outputs": [],
   "source": []
  }
 ],
 "metadata": {
  "kernelspec": {
   "display_name": "Python 3",
   "language": "python",
   "name": "python3"
  },
  "language_info": {
   "codemirror_mode": {
    "name": "ipython",
    "version": 3
   },
   "file_extension": ".py",
   "mimetype": "text/x-python",
   "name": "python",
   "nbconvert_exporter": "python",
   "pygments_lexer": "ipython3",
   "version": "3.7.3"
  }
 },
 "nbformat": 4,
 "nbformat_minor": 2
}
