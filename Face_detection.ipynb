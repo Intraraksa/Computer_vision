{
 "cells": [
  {
   "cell_type": "markdown",
   "metadata": {},
   "source": [
    "### import important library"
   ]
  },
  {
   "cell_type": "code",
   "execution_count": null,
   "metadata": {},
   "outputs": [],
   "source": [
    "import cv2 #computer vision library\n",
    "import numpy as np #library for manage value as array\n",
    "import matplotlib.pyplot as plt #library to plot graph"
   ]
  },
  {
   "cell_type": "markdown",
   "metadata": {},
   "source": [
    "#### import dataset that optimized model"
   ]
  },
  {
   "cell_type": "code",
   "execution_count": null,
   "metadata": {},
   "outputs": [],
   "source": [
    "face = cv2.CascadeClassifier('haarcascade_frontalface_default.xml')\n",
    "eye = cv2.CascadeClassifier('haarcascade_eye.xml')"
   ]
  },
  {
   "cell_type": "code",
   "execution_count": null,
   "metadata": {},
   "outputs": [],
   "source": [
    "face = cv2.CascadeClassifier('haarcascade_frontalface_default.xml')\n",
    "eye = cv2.CascadeClassifier('haarcascade_eye.xml')\n",
    "video = cv2.VideoCapture(0)\n",
    "while True:    \n",
    "    ret,frame = video.read()\n",
    "    gray = cv2.cvtColor(frame,cv2.COLOR_RGB2GRAY)\n",
    "    face_img = face.detectMultiScale(gray)\n",
    "    for box in face_img:\n",
    "        x,y,width,height = box\n",
    "        x2,y2 = x+width,y+height\n",
    "        eye_img = eye.detectMultiScale(gray)\n",
    "        cv2.rectangle(frame,(x,y),(x+width,y+height),(255,0,0),1)   \n",
    "        for eye in eye_img:\n",
    "            x_eye,y_eye,width_eye,height_eye = eye\n",
    "#             cv2.rectangle(frame,(x_eye,y_eye),(x_eye+width_eye,y_eye+height_eye),(0,0,255),2)\n",
    "    cv2.imshow('face detection',frame)\n",
    "    if cv2.waitKey(1) & 0xFF == ord('q'):\n",
    "        break\n",
    "video.release()\n",
    "cv2.destroyAllWindows()\n",
    "            \n",
    "#     cv2.imshow('face detection',frame)\n",
    "#     cv2.waitKey(0)"
   ]
  },
  {
   "cell_type": "code",
   "execution_count": null,
   "metadata": {},
   "outputs": [],
   "source": [
    "img = cv2.imread('nat2.jpg')\n",
    "# cv2.imshow('result',img)\n",
    "# cv2.waitKey(0)"
   ]
  },
  {
   "cell_type": "code",
   "execution_count": null,
   "metadata": {},
   "outputs": [],
   "source": [
    "face_img = face.detectMultiScale(img)"
   ]
  },
  {
   "cell_type": "code",
   "execution_count": null,
   "metadata": {},
   "outputs": [],
   "source": [
    "for box in face_img:\n",
    "    x,y,width,height = box\n",
    "    x2,y2 = x+width,y+height\n",
    "    cv2.rectangle(img,(x,y),(x+width,y+height),(255,0,0),1)\n",
    "    eye_img = eye.detectMultiScale(img)   \n",
    "    for eye in eye_img:\n",
    "        x_eye,y_eye,width_eye,height_eye = eye\n",
    "        cv2.rectangle(img,(x_eye,y_eye),(x_eye+width_eye,y_eye+height_eye),(0,0,255),1)\n",
    "cv2.imshow('face detection',img)\n",
    "cv2.waitKey(0)"
   ]
  }
 ],
 "metadata": {
  "kernelspec": {
   "display_name": "Python 3",
   "language": "python",
   "name": "python3"
  },
  "language_info": {
   "codemirror_mode": {
    "name": "ipython",
    "version": 3
   },
   "file_extension": ".py",
   "mimetype": "text/x-python",
   "name": "python",
   "nbconvert_exporter": "python",
   "pygments_lexer": "ipython3",
   "version": "3.7.3"
  }
 },
 "nbformat": 4,
 "nbformat_minor": 2
}
