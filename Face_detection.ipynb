{
 "cells": [
  {
   "cell_type": "markdown",
   "metadata": {},
   "source": [
    "### import important library"
   ]
  },
  {
   "cell_type": "code",
   "execution_count": 1,
   "metadata": {},
   "outputs": [],
   "source": [
    "import cv2 #computer vision library\n",
    "import numpy as np #library for manage value as array\n",
    "import matplotlib.pyplot as plt #library to plot graph"
   ]
  },
  {
   "cell_type": "markdown",
   "metadata": {},
   "source": [
    "#### import dataset that optimized model"
   ]
  },
  {
   "cell_type": "code",
   "execution_count": 2,
   "metadata": {},
   "outputs": [],
   "source": [
    "face = cv2.CascadeClassifier('haarcascade_frontalface_default.xml')\n",
    "eye = cv2.CascadeClassifier('haarcascade_eye.xml')"
   ]
  },
  {
   "cell_type": "code",
   "execution_count": 3,
   "metadata": {},
   "outputs": [],
   "source": [
    "img = cv2.imread('nat2.jpg')\n",
    "# cv2.imshow('result',img)\n",
    "# cv2.waitKey(0)"
   ]
  },
  {
   "cell_type": "code",
   "execution_count": 4,
   "metadata": {},
   "outputs": [],
   "source": [
    "face_img = face.detectMultiScale(img)"
   ]
  },
  {
   "cell_type": "code",
   "execution_count": null,
   "metadata": {},
   "outputs": [],
   "source": [
    "for box in face_img:\n",
    "    x,y,width,height = box\n",
    "    x2,y2 = x+width,y+height\n",
    "    cv2.rectangle(img,(x,y),(x+width,y+height),(255,0,0),1)\n",
    "    eye_img = eye.detectMultiScale(img)   \n",
    "    for eye in eye_img:\n",
    "        x_eye,y_eye,width_eye,height_eye = eye\n",
    "        cv2.rectangle(img,(x_eye,y_eye),(x_eye+width_eye,y_eye+height_eye),(0,0,0),1)\n",
    "cv2.imshow('face detection',img)\n",
    "cv2.waitKey(0)"
   ]
  },
  {
   "cell_type": "code",
   "execution_count": 12,
   "metadata": {},
   "outputs": [],
   "source": [
    "piece = img[120:200,150:200]"
   ]
  },
  {
   "cell_type": "code",
   "execution_count": 6,
   "metadata": {},
   "outputs": [
    {
     "data": {
      "text/plain": [
       "-1"
      ]
     },
     "execution_count": 6,
     "metadata": {},
     "output_type": "execute_result"
    }
   ],
   "source": [
    "cv2.imshow('piece',piece)\n",
    "cv2.waitKey(0)"
   ]
  },
  {
   "cell_type": "code",
   "execution_count": 14,
   "metadata": {},
   "outputs": [
    {
     "data": {
      "image/png": "[encoded data removed]",
      "text/plain": [
       "<Figure size 432x288 with 1 Axes>"
      ]
     },
     "metadata": {
      "needs_background": "light"
     },
     "output_type": "display_data"
    }
   ],
   "source": [
    "plt.imshow(piece)\n",
    "plt.show()"
   ]
  },
  {
   "cell_type": "code",
   "execution_count": 13,
   "metadata": {},
   "outputs": [
    {
     "data": {
      "text/plain": [
       "array([[[153, 175, 223],\n",
       "        [156, 178, 226],\n",
       "        [150, 172, 220],\n",
       "        ...,\n",
       "        [169, 189, 236],\n",
       "        [169, 189, 236],\n",
       "        [168, 188, 235]],\n",
       "\n",
       "       [[152, 174, 222],\n",
       "        [154, 176, 224],\n",
       "        [151, 173, 221],\n",
       "        ...,\n",
       "        [169, 189, 236],\n",
       "        [168, 188, 235],\n",
       "        [168, 188, 235]],\n",
       "\n",
       "       [[151, 173, 221],\n",
       "        [153, 175, 223],\n",
       "        [153, 175, 223],\n",
       "        ...,\n",
       "        [169, 189, 236],\n",
       "        [168, 188, 235],\n",
       "        [167, 187, 234]],\n",
       "\n",
       "       ...,\n",
       "\n",
       "       [[179, 195, 242],\n",
       "        [180, 196, 243],\n",
       "        [176, 192, 239],\n",
       "        ...,\n",
       "        [185, 201, 248],\n",
       "        [183, 199, 246],\n",
       "        [181, 197, 244]],\n",
       "\n",
       "       [[176, 192, 239],\n",
       "        [178, 194, 241],\n",
       "        [176, 192, 239],\n",
       "        ...,\n",
       "        [181, 197, 244],\n",
       "        [181, 197, 244],\n",
       "        [182, 198, 245]],\n",
       "\n",
       "       [[174, 190, 237],\n",
       "        [176, 192, 239],\n",
       "        [177, 193, 240],\n",
       "        ...,\n",
       "        [175, 191, 238],\n",
       "        [177, 193, 240],\n",
       "        [181, 197, 244]]], dtype=uint8)"
      ]
     },
     "execution_count": 13,
     "metadata": {},
     "output_type": "execute_result"
    }
   ],
   "source": [
    "piece"
   ]
  },
  {
   "cell_type": "code",
   "execution_count": null,
   "metadata": {},
   "outputs": [],
   "source": []
  }
 ],
 "metadata": {
  "kernelspec": {
   "display_name": "Python 3",
   "language": "python",
   "name": "python3"
  },
  "language_info": {
   "codemirror_mode": {
    "name": "ipython",
    "version": 3
   },
   "file_extension": ".py",
   "mimetype": "text/x-python",
   "name": "python",
   "nbconvert_exporter": "python",
   "pygments_lexer": "ipython3",
   "version": "3.7.3"
  }
 },
 "nbformat": 4,
 "nbformat_minor": 2
}
